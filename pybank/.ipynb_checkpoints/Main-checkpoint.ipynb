{
 "cells": [
  {
   "cell_type": "code",
   "execution_count": 1,
   "id": "b14ad9e6",
   "metadata": {},
   "outputs": [],
   "source": [
    "#dependencies\n",
    "import os\n",
    "import csv\n",
    "import pandas as pd"
   ]
  },
  {
   "cell_type": "code",
   "execution_count": 2,
   "id": "cc9dbcd8",
   "metadata": {},
   "outputs": [],
   "source": [
    "# Store filepath in a variable\n",
    "data_file = \"Resources/budget_data.csv\""
   ]
  },
  {
   "cell_type": "code",
   "execution_count": 3,
   "id": "1f289095",
   "metadata": {},
   "outputs": [],
   "source": [
    "# Read the Data file with the pandas library, but enconding just in case.\n",
    "data_file = os.path.join(\"Resources\", \"budget_data.csv\")"
   ]
  },
  {
   "cell_type": "code",
   "execution_count": 4,
   "id": "592d0049",
   "metadata": {
    "scrolled": false
   },
   "outputs": [],
   "source": [
    "# create a list\n",
    "changes = []\n",
    "\n",
    "# for row 1, change needs to be zero as you can't subtract from header.\n",
    "change = 0 \n",
    "with open(data_file) as csv_file:\n",
    "    csv_reader = csv.reader(csv_file, delimiter=\",\")\n",
    "\n",
    "    # Read the header row first (skip this part if there is no header)\n",
    "    csv_header = next(csv_reader)\n",
    "    \n",
    "    for row in csv_reader:\n",
    "        difference = int(row[1]) - change\n",
    "        change = int(row[1])\n",
    "        changes.append(difference)\n",
    "changes\n",
    "\n",
    "#Remove initial profit loss value from new list\n",
    "first_pl = changes.pop(0)"
   ]
  },
  {
   "cell_type": "code",
   "execution_count": 5,
   "id": "eaebef11",
   "metadata": {},
   "outputs": [],
   "source": [
    "# average of the changes\n",
    "avg_change = round(sum(changes)/len(changes), 2)"
   ]
  },
  {
   "cell_type": "code",
   "execution_count": 6,
   "id": "96c549f9",
   "metadata": {},
   "outputs": [],
   "source": [
    "# Use Pandas to read data (pd = Pandas) and the \"head\" method.\n",
    "data_file_df = pd.read_csv(data_file)"
   ]
  },
  {
   "cell_type": "code",
   "execution_count": 7,
   "id": "d27d434d",
   "metadata": {},
   "outputs": [],
   "source": [
    "# Use Pandas to read list (pd = Pandas).\n",
    "df_list = pd.read_csv(data_file)"
   ]
  },
  {
   "cell_type": "code",
   "execution_count": 8,
   "id": "a0a924ac",
   "metadata": {},
   "outputs": [
    {
     "data": {
      "text/html": [
       "<div>\n",
       "<style scoped>\n",
       "    .dataframe tbody tr th:only-of-type {\n",
       "        vertical-align: middle;\n",
       "    }\n",
       "\n",
       "    .dataframe tbody tr th {\n",
       "        vertical-align: top;\n",
       "    }\n",
       "\n",
       "    .dataframe thead th {\n",
       "        text-align: right;\n",
       "    }\n",
       "</style>\n",
       "<table border=\"1\" class=\"dataframe\">\n",
       "  <thead>\n",
       "    <tr style=\"text-align: right;\">\n",
       "      <th></th>\n",
       "      <th>Date</th>\n",
       "      <th>Profit/Losses</th>\n",
       "    </tr>\n",
       "  </thead>\n",
       "  <tbody>\n",
       "    <tr>\n",
       "      <th>0</th>\n",
       "      <td>Jan-2010</td>\n",
       "      <td>867884</td>\n",
       "    </tr>\n",
       "    <tr>\n",
       "      <th>1</th>\n",
       "      <td>Feb-2010</td>\n",
       "      <td>984655</td>\n",
       "    </tr>\n",
       "    <tr>\n",
       "      <th>2</th>\n",
       "      <td>Mar-2010</td>\n",
       "      <td>322013</td>\n",
       "    </tr>\n",
       "    <tr>\n",
       "      <th>3</th>\n",
       "      <td>Apr-2010</td>\n",
       "      <td>-69417</td>\n",
       "    </tr>\n",
       "    <tr>\n",
       "      <th>4</th>\n",
       "      <td>May-2010</td>\n",
       "      <td>310503</td>\n",
       "    </tr>\n",
       "    <tr>\n",
       "      <th>5</th>\n",
       "      <td>Jun-2010</td>\n",
       "      <td>522857</td>\n",
       "    </tr>\n",
       "    <tr>\n",
       "      <th>6</th>\n",
       "      <td>Jul-2010</td>\n",
       "      <td>1033096</td>\n",
       "    </tr>\n",
       "    <tr>\n",
       "      <th>7</th>\n",
       "      <td>Aug-2010</td>\n",
       "      <td>604885</td>\n",
       "    </tr>\n",
       "    <tr>\n",
       "      <th>8</th>\n",
       "      <td>Sep-2010</td>\n",
       "      <td>-216386</td>\n",
       "    </tr>\n",
       "    <tr>\n",
       "      <th>9</th>\n",
       "      <td>Oct-2010</td>\n",
       "      <td>477532</td>\n",
       "    </tr>\n",
       "    <tr>\n",
       "      <th>10</th>\n",
       "      <td>Nov-2010</td>\n",
       "      <td>893810</td>\n",
       "    </tr>\n",
       "    <tr>\n",
       "      <th>11</th>\n",
       "      <td>Dec-2010</td>\n",
       "      <td>-80353</td>\n",
       "    </tr>\n",
       "    <tr>\n",
       "      <th>12</th>\n",
       "      <td>Jan-2011</td>\n",
       "      <td>779806</td>\n",
       "    </tr>\n",
       "    <tr>\n",
       "      <th>13</th>\n",
       "      <td>Feb-2011</td>\n",
       "      <td>-335203</td>\n",
       "    </tr>\n",
       "    <tr>\n",
       "      <th>14</th>\n",
       "      <td>Mar-2011</td>\n",
       "      <td>697845</td>\n",
       "    </tr>\n",
       "    <tr>\n",
       "      <th>15</th>\n",
       "      <td>Apr-2011</td>\n",
       "      <td>793163</td>\n",
       "    </tr>\n",
       "    <tr>\n",
       "      <th>16</th>\n",
       "      <td>May-2011</td>\n",
       "      <td>485070</td>\n",
       "    </tr>\n",
       "    <tr>\n",
       "      <th>17</th>\n",
       "      <td>Jun-2011</td>\n",
       "      <td>584122</td>\n",
       "    </tr>\n",
       "    <tr>\n",
       "      <th>18</th>\n",
       "      <td>Jul-2011</td>\n",
       "      <td>62729</td>\n",
       "    </tr>\n",
       "    <tr>\n",
       "      <th>19</th>\n",
       "      <td>Aug-2011</td>\n",
       "      <td>668179</td>\n",
       "    </tr>\n",
       "  </tbody>\n",
       "</table>\n",
       "</div>"
      ],
      "text/plain": [
       "        Date  Profit/Losses\n",
       "0   Jan-2010         867884\n",
       "1   Feb-2010         984655\n",
       "2   Mar-2010         322013\n",
       "3   Apr-2010         -69417\n",
       "4   May-2010         310503\n",
       "5   Jun-2010         522857\n",
       "6   Jul-2010        1033096\n",
       "7   Aug-2010         604885\n",
       "8   Sep-2010        -216386\n",
       "9   Oct-2010         477532\n",
       "10  Nov-2010         893810\n",
       "11  Dec-2010         -80353\n",
       "12  Jan-2011         779806\n",
       "13  Feb-2011        -335203\n",
       "14  Mar-2011         697845\n",
       "15  Apr-2011         793163\n",
       "16  May-2011         485070\n",
       "17  Jun-2011         584122\n",
       "18  Jul-2011          62729\n",
       "19  Aug-2011         668179"
      ]
     },
     "execution_count": 8,
     "metadata": {},
     "output_type": "execute_result"
    }
   ],
   "source": [
    "# Review headers\n",
    "data_file_df.head(20)"
   ]
  },
  {
   "cell_type": "code",
   "execution_count": 9,
   "id": "f6ec9fdb",
   "metadata": {
    "scrolled": true
   },
   "outputs": [
    {
     "name": "stdout",
     "output_type": "stream",
     "text": [
      "FINANCIAL ANALYSIS\n",
      "-----------------------------------------\n",
      "Total Months  = 86\n",
      "Total Profit  = $ 38382578\n",
      "Average Monthly Change  = $ -2315.12\n",
      "Greatest Increase  = $ 1926159\n",
      "Greatest Decrease = $ -2196167\n"
     ]
    }
   ],
   "source": [
    "months = data_file_df[\"Date\"].count()\n",
    "profit = data_file_df[\"Profit/Losses\"].sum()\n",
    "greatest_increase = max(changes)\n",
    "lowest_increase = min(changes)\n",
    "print(\"FINANCIAL ANALYSIS\")\n",
    "print(\"-----------------------------------------\")\n",
    "print(\"Total Months \", \"=\", months)\n",
    "print(\"Total Profit \", \"= $\", profit)\n",
    "print(\"Average Monthly Change \", \"= $\", avg_change)\n",
    "print(\"Greatest Increase \", \"= $\", greatest_increase)\n",
    "print(\"Greatest Decrease\", \"= $\", lowest_increase)"
   ]
  },
  {
   "cell_type": "code",
   "execution_count": 10,
   "id": "ab706866",
   "metadata": {
    "scrolled": true
   },
   "outputs": [],
   "source": [
    "# my attempt to output to txt failed, so I saved text results manually.\n",
    "# with open(os.path.join('Analysis.txt'),'w') as outfile:\n",
    "#     data_file_df.to_string(outfile)"
   ]
  }
 ],
 "metadata": {
  "kernelspec": {
   "display_name": "Python 3",
   "language": "python",
   "name": "python3"
  },
  "language_info": {
   "codemirror_mode": {
    "name": "ipython",
    "version": 3
   },
   "file_extension": ".py",
   "mimetype": "text/x-python",
   "name": "python",
   "nbconvert_exporter": "python",
   "pygments_lexer": "ipython3",
   "version": "3.6.13"
  }
 },
 "nbformat": 4,
 "nbformat_minor": 5
}
